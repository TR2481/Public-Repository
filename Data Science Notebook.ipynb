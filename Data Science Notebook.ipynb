{
    "cells": [
        {
            "cell_type": "markdown",
            "metadata": {
                "id": "d2490739-db4a-4443-ae14-4bbf6d87db76"
            },
            "source": "This program prints Hello, World!"
        },
        {
            "cell_type": "code",
            "execution_count": 2,
            "metadata": {
                "id": "f501609e-f284-48d6-aa19-9ace2bfe2ff5"
            },
            "outputs": [
                {
                    "name": "stdout",
                    "output_type": "stream",
                    "text": "Hello World!\n"
                }
            ],
            "source": "print('Hello World!')"
        },
        {
            "cell_type": "markdown",
            "metadata": {
                "id": "2fd181df-837e-46c2-9e41-a56b7a375894"
            },
            "source": "Practice uploading data via top right corner widget."
        },
        {
            "cell_type": "markdown",
            "metadata": {
                "id": "d66b266d-03e6-4d1a-b62b-9b48262d9fe6"
            },
            "source": "Upload data, click code icon, then read data, then select data from project/data asset/select uploaded data/click select/ in screeen, select load as pandas/insert code to new cell."
        },
        {
            "cell_type": "markdown",
            "metadata": {
                "id": "6cc6aa81-af6f-4047-8ee9-a26f9a78435b"
            },
            "source": "on project home page, if you select assets/notebooks you'll see this notebook as read only. select pencil icon to edit. the \"i\" icon can update notebook name and desc while providing additonal informatoin. in the Environement tabyou can update the template, check runtime status, etc. "
        },
        {
            "cell_type": "markdown",
            "metadata": {
                "id": "544a7325-0140-4b0a-bbec-1fdf67913994"
            },
            "source": "We can share the workbook via URL if you select the share icon. You can share read-only with cell content options. Anyone who has the URL can share or download the notebook. "
        },
        {
            "cell_type": "markdown",
            "metadata": {
                "id": "27fc79d3-9ef9-4699-ad74-8de9551f8af6"
            },
            "source": "Click the Create a Job icon from the notebook action bar and click Create a Job. On the Define Details page, enter the job name and description and then click Next. In the Configure page, check all the required details and then click Next. On the Schedule page, you can select any one run after job creation or run on a schedule as required. Then click Next. If you require a notification for this job, enable the Notification option and then click Next. Review the job details and click Create."
        },
        {
            "cell_type": "markdown",
            "metadata": {
                "id": "a2244d1e-1a8c-4349-86c9-841d99f13dfe"
            },
            "source": "After the job is successfully created, a pop-up window will appear with the message The job was successfully created. Click the project name to return to the project homepage. Go to the Jobs tab to view the job you created. You can edit and delete the job from here"
        },
        {
            "cell_type": "markdown",
            "metadata": {
                "id": "bbe9562a-e9fc-4424-b8a3-9fa721b023cd"
            },
            "source": "To Manage the environment:  Go to the Data Science Project homepage. Click the Manage tab, and then click Environments in the left pane. If your notebook is executing, you will be able to see the active runtime environment. Note that you can execute your notebook to see the active runtime if it is not visible."
        },
        {
            "cell_type": "markdown",
            "metadata": {
                "id": "a8849104-75f7-44a2-8938-22d53c326840"
            },
            "source": "To see the available runtime environments, click Templates. In the Template Name list, you can explore available runtime environment templates. Select any template as your active runtime environment. Let's select the RS Studio environment. On selecting the template, you will see the summary of the template. To create a new template, go back to the Template page and click New Template. Enter the environment name, its description and configuration."
        },
        {
            "cell_type": "markdown",
            "metadata": {
                "id": "c9a7395d-bd06-46eb-8f85-2aa35bb7cc45"
            },
            "source": "Then click Create to create the environment. The newly created environment will appear at the top. A summary and software configuration details of the new template will be displayed. To change the current runtime to the newly created template runtime, click the Assets tab, and then select the new notebook you created. If you see the lock icon, unlock it and select the notebook again. Next, select the three dots on the right and click Change Environment. Select the new template environment you created and click Change."
        },
        {
            "cell_type": "markdown",
            "metadata": {
                "id": "6997e143-1d2b-49c3-9814-575640541772"
            },
            "source": "In the pop-up, select the kernel from the drop-down option and click Select Kernel. In the top right corner, you will see the new runtime. Now you can drag and drop any CSV file to upload. Click Insert Code to Sell to include the code into the notebook. To execute the notebook, click Run. You will see that the output is now using the new runtime environment. "
        }
    ],
    "metadata": {
        "kernelspec": {
            "display_name": "Python 3.11",
            "language": "python",
            "name": "python3"
        },
        "language_info": {
            "codemirror_mode": {
                "name": "ipython",
                "version": 3
            },
            "file_extension": ".py",
            "mimetype": "text/x-python",
            "name": "python",
            "nbconvert_exporter": "python",
            "pygments_lexer": "ipython3",
            "version": "3.11.13"
        }
    },
    "nbformat": 4,
    "nbformat_minor": 4
}